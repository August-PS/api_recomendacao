{
 "cells": [
  {
   "cell_type": "code",
   "execution_count": null,
   "id": "39dc8161",
   "metadata": {},
   "outputs": [],
   "source": [
    "from fastapi import FastAPI\n",
    "# FastAPI: Criar e gerenciar a API."
   ]
  },
  {
   "cell_type": "code",
   "execution_count": null,
   "id": "5db0cd67",
   "metadata": {},
   "outputs": [],
   "source": [
    "from pydantic import BaseModel\n",
    "# pydantic.BaseModel: Validar dados recebidos em requisições."
   ]
  },
  {
   "cell_type": "code",
   "execution_count": 5,
   "id": "e38e1df7",
   "metadata": {},
   "outputs": [],
   "source": [
    "import pandas as pd\n",
    "# pandas: Manipular os dados da base."
   ]
  },
  {
   "cell_type": "code",
   "execution_count": 6,
   "id": "0cbcffa7",
   "metadata": {},
   "outputs": [],
   "source": [
    "import numpy as np\n",
    "# numpy: Cálculos numéricos."
   ]
  },
  {
   "cell_type": "code",
   "execution_count": 8,
   "id": "f02a58dd",
   "metadata": {},
   "outputs": [],
   "source": [
    "from sklearn.metrics.pairwise import cosine_similarity\n",
    "# cosine_similarity: Medir semelhança entre usuários com base nas avaliações."
   ]
  },
  {
   "cell_type": "code",
   "execution_count": 9,
   "id": "074fbbf7",
   "metadata": {},
   "outputs": [],
   "source": [
    "from sklearn.impute import SimpleImputer\n",
    "# SimpleImputer: Preencher valores ausentes (NaN) com a média."
   ]
  },
  {
   "cell_type": "code",
   "execution_count": 11,
   "id": "d02e56c3",
   "metadata": {},
   "outputs": [],
   "source": [
    "df = pd.read_csv(\"base_recomendacao.csv\")\n",
    "# Lê um arquivo CSV com as colunas user_id, product_id e rating."
   ]
  },
  {
   "cell_type": "code",
   "execution_count": 12,
   "id": "ffb244cf",
   "metadata": {},
   "outputs": [],
   "source": [
    "user_item_matrix = df.pivot_table(index='user_id', columns='product_id', values='rating')\n",
    "#ransforma esses dados em uma matriz de utilidade onde:\n",
    "\n",
    "#Linhas: usuários\n",
    "#Colunas: produtos\n",
    "#Valores: avaliações dadas (ratings)"
   ]
  },
  {
   "cell_type": "code",
   "execution_count": 13,
   "id": "a5b910ff",
   "metadata": {},
   "outputs": [],
   "source": [
    "imputer = SimpleImputer(strategy='mean')\n",
    "#Preenche os valores NaN com a média das avaliações (por produto)."
   ]
  },
  {
   "cell_type": "code",
   "execution_count": 14,
   "id": "d7c89427",
   "metadata": {},
   "outputs": [],
   "source": [
    "user_item_matrix_filled = imputer.fit_transform(user_item_matrix)\n",
    "# cria uma nova matriz com todos os dados preenchidos."
   ]
  },
  {
   "cell_type": "code",
   "execution_count": 15,
   "id": "5fd8be43",
   "metadata": {},
   "outputs": [],
   "source": [
    "user_similarity = cosine_similarity(user_item_matrix_filled)\n",
    "# Calcula a similaridade do cosseno entre cada par de usuários.\n",
    "# Retorna uma matriz user x user, onde cada célula indica o quão parecidos são dois usuários com base nas avaliações.\n"
   ]
  },
  {
   "cell_type": "code",
   "execution_count": 16,
   "id": "126a6662",
   "metadata": {},
   "outputs": [],
   "source": [
    "user_similarity_df = pd.DataFrame(user_similarity, index=user_item_matrix.index, columns=user_item_matrix.index)\n",
    "# Transforma essa matriz em um DataFrame para facilitar o acesso."
   ]
  },
  {
   "cell_type": "code",
   "execution_count": 22,
   "id": "dbe44475",
   "metadata": {},
   "outputs": [],
   "source": [
    "def recommend_products(user_id, user_item_matrix, similarity_matrix, top_n=3):\n",
    "#Inicia a definição da função chamada recommend_products.\n",
    "#parâmetros: \n",
    "#user_id(int) - O ID do usuário para o qual você deseja gerar recomendações.\n",
    "#user_item_matrix(DataFrame) - A matriz usuário x produto com os ratings (alguns podem ser NaN).\n",
    "#similarity_matrix (np.array (2D)) - A matriz de similaridade entre os usuários (ex: cosseno).\n",
    "#top_n(int,padrão=3) - Quantidade de produtos que você deseja recomendar\n",
    "    user_idx = user_item_matrix.index.get_loc(user_id)\n",
    "    #Pega a posição do usuário na matriz.\n",
    "    similar_users = similarity_matrix[user_idx]\n",
    "    #Vetor de similaridade desse usuário com os outros.\n",
    "    scores = np.dot(similar_users, user_item_matrix_filled)\n",
    "    # Produto escalar da similaridade com a matriz de ratings preenchida → estima o quanto ele \"gostaria\" dos produtos.\n",
    "    user_rated = user_item_matrix.loc[user_id].dropna().index\n",
    "    #Pega os produtos que o usuário já avaliou (não queremos recomendar isso).\n",
    "    recommendations = pd.Series(scores, index=user_item_matrix.columns).drop(user_rated, errors=\"ignore\")\n",
    "    #Remove os produtos já avaliados e ordena os demais.\n",
    "    top_recommendations = recommendations.sort_values(ascending=False).head(top_n)\n",
    "    #Pega os top_n com maior \"score\".\n",
    "    return top_recommendations.index.tolist()\n",
    "    #retornar a lista final de recomendações."
   ]
  },
  {
   "cell_type": "code",
   "execution_count": 23,
   "id": "46cfa6e3",
   "metadata": {},
   "outputs": [],
   "source": [
    "app = FastAPI()\n",
    "#app = FastAPI()"
   ]
  },
  {
   "cell_type": "code",
   "execution_count": 26,
   "id": "30211ccd",
   "metadata": {},
   "outputs": [],
   "source": [
    "class RecommenderRequest(BaseModel):\n",
    "    #Define a estrutura dos dados esperados na requisição:\n",
    "    user_id: int\n",
    "    #usuário para o qual será feita a recomendação.\n",
    "    top_n: int = 3\n",
    "    #top_n: quantidade de produtos recomendados (padrão = 3).\n"
   ]
  },
  {
   "cell_type": "code",
   "execution_count": 28,
   "id": "012c85f6",
   "metadata": {},
   "outputs": [],
   "source": [
    "@app.post(\"/recomendar\")\n",
    "#Define a rota POST /recomendar.\n",
    "def recomendar(request: RecommenderRequest):\n",
    "    #Recebe o corpo da requisição como um objeto do tipo RecommenderRequest.\n",
    "    recs = recommend_products(request.user_id, user_item_matrix, user_similarity_df.values, request.top_n)\n",
    "    #Chama a função de recomendação.\n",
    "    return {\"recomendados\": recs}\n",
    "    #Retorna um JSON com os produtos recomendados.\n"
   ]
  },
  {
   "cell_type": "code",
   "execution_count": null,
   "id": "2d2752e8",
   "metadata": {},
   "outputs": [],
   "source": []
  }
 ],
 "metadata": {
  "kernelspec": {
   "display_name": "base",
   "language": "python",
   "name": "python3"
  },
  "language_info": {
   "codemirror_mode": {
    "name": "ipython",
    "version": 3
   },
   "file_extension": ".py",
   "mimetype": "text/x-python",
   "name": "python",
   "nbconvert_exporter": "python",
   "pygments_lexer": "ipython3",
   "version": "3.12.7"
  }
 },
 "nbformat": 4,
 "nbformat_minor": 5
}
